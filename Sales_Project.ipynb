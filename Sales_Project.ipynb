{
 "cells": [
  {
   "cell_type": "code",
   "execution_count": 0,
   "metadata": {
    "application/vnd.databricks.v1+cell": {
     "cellMetadata": {
      "byteLimit": 2048000,
      "rowLimit": 10000
     },
     "inputWidgets": {},
     "nuid": "23e8218c-76d6-46a1-9ffb-50168347bf7c",
     "showTitle": false,
     "tableResultSettingsMap": {},
     "title": ""
    }
   },
   "outputs": [
    {
     "output_type": "stream",
     "name": "stdout",
     "output_type": "stream",
     "text": [
      "فاصل اعلاني\n"
     ]
    }
   ],
   "source": [
    "print('فاصل اعلاني')"
   ]
  },
  {
   "cell_type": "code",
   "execution_count": 0,
   "metadata": {
    "application/vnd.databricks.v1+cell": {
     "cellMetadata": {
      "byteLimit": 2048000,
      "rowLimit": 10000
     },
     "inputWidgets": {},
     "nuid": "189c3465-fdcd-4aa2-a857-c7bb880379b2",
     "showTitle": false,
     "tableResultSettingsMap": {},
     "title": ""
    }
   },
   "outputs": [],
   "source": [
    "spark.conf.set(\n",
    "  \"Your Account Key\",\n",
    "  \"your_Access Key\"\n",
    ")"
   ]
  },
  {
   "cell_type": "code",
   "execution_count": 0,
   "metadata": {
    "application/vnd.databricks.v1+cell": {
     "cellMetadata": {
      "byteLimit": 2048000,
      "rowLimit": 10000
     },
     "inputWidgets": {},
     "nuid": "fbbbb99e-348f-4ac8-9890-50aa25215b73",
     "showTitle": false,
     "tableResultSettingsMap": {},
     "title": ""
    }
   },
   "outputs": [
    {
     "output_type": "stream",
     "name": "stdout",
     "output_type": "stream",
     "text": [
      "+--------+--------------------+------------+\n|store_id|          store_name|    location|\n+--------+--------------------+------------+\n|       1|     City Mall Store|         UAE|\n|       2|   High Street Store|Saudi Arabia|\n|       3|   Tech World Outlet|       Qatar|\n|       4|Cairo Festival Ci...|       Egypt|\n|       5|          Mega Plaza|      Kuwait|\n+--------+--------------------+------------+\n\n"
     ]
    }
   ],
   "source": [
    "df_store = spark.read.parquet(\"abfss://retail@elmougist.dfs.core.windows.net/dbo.stores.parquet\")\n",
    "df_store.show(5)"
   ]
  },
  {
   "cell_type": "code",
   "execution_count": 0,
   "metadata": {
    "application/vnd.databricks.v1+cell": {
     "cellMetadata": {
      "byteLimit": 2048000,
      "rowLimit": 10000
     },
     "inputWidgets": {},
     "nuid": "8985a857-dc5c-46c6-9c42-819ac7e049aa",
     "showTitle": false,
     "tableResultSettingsMap": {},
     "title": ""
    }
   },
   "outputs": [
    {
     "output_type": "stream",
     "name": "stdout",
     "output_type": "stream",
     "text": [
      "+----------+-----------------+-----------+-----+\n|product_id|     product_name|   category|price|\n+----------+-----------------+-----------+-----+\n|         1|   Wireless Mouse|Electronics|  800|\n|         2|Bluetooth Speaker|Electronics| 1200|\n|         3|         Yoga Mat|    Fitness|  499|\n|         4|     Laptop Stand|Accessories|  999|\n|         5|     Notebook Set| Stationery|  149|\n+----------+-----------------+-----------+-----+\nonly showing top 5 rows\n"
     ]
    }
   ],
   "source": [
    "df_product = spark.read.parquet(\"abfss://retail@elmougist.dfs.core.windows.net/dbo.products.parquet\")\n",
    "df_product.show(5)"
   ]
  },
  {
   "cell_type": "code",
   "execution_count": 0,
   "metadata": {
    "application/vnd.databricks.v1+cell": {
     "cellMetadata": {
      "byteLimit": 2048000,
      "rowLimit": 10000
     },
     "inputWidgets": {},
     "nuid": "6137e1cb-a9db-402e-9312-ffc417608fe3",
     "showTitle": false,
     "tableResultSettingsMap": {},
     "title": ""
    }
   },
   "outputs": [
    {
     "output_type": "stream",
     "name": "stdout",
     "output_type": "stream",
     "text": [
      "+--------------+-----------+----------+--------+--------+----------------+\n|transaction_id|customer_id|product_id|store_id|quantity|transaction_date|\n+--------------+-----------+----------+--------+--------+----------------+\n|            31|        101|         1|       1|       3|      2025-04-01|\n|            32|        102|         2|       2|       2|      2025-04-03|\n|            33|        103|         3|       3|       1|      2025-04-05|\n|            34|        104|         4|       4|       5|      2025-04-07|\n|            35|        105|         5|       5|       2|      2025-04-09|\n+--------------+-----------+----------+--------+--------+----------------+\nonly showing top 5 rows\n"
     ]
    }
   ],
   "source": [
    "df_transaction = spark.read.parquet(\"abfss://retail@elmougist.dfs.core.windows.net/dbo.transactions.parquet\")\n",
    "df_transaction.show(5)"
   ]
  },
  {
   "cell_type": "code",
   "execution_count": 0,
   "metadata": {
    "application/vnd.databricks.v1+cell": {
     "cellMetadata": {
      "byteLimit": 2048000,
      "rowLimit": 10000
     },
     "inputWidgets": {},
     "nuid": "2061f10a-0ee7-49df-8027-3fa0de985d32",
     "showTitle": false,
     "tableResultSettingsMap": {},
     "title": ""
    }
   },
   "outputs": [
    {
     "output_type": "stream",
     "name": "stdout",
     "output_type": "stream",
     "text": [
      "+--------+--------------------+------------+\n|store_id|          store_name|    location|\n+--------+--------------------+------------+\n|       1|     City Mall Store|         UAE|\n|       2|   High Street Store|Saudi Arabia|\n|       3|   Tech World Outlet|       Qatar|\n|       4|Cairo Festival Ci...|       Egypt|\n|       5|          Mega Plaza|      Kuwait|\n+--------+--------------------+------------+\n\n"
     ]
    }
   ],
   "source": [
    "df_store = spark.read.parquet(\"abfss://retail@elmougist.dfs.core.windows.net/dbo.stores.parquet\")\n",
    "df_store.show(5)"
   ]
  },
  {
   "cell_type": "code",
   "execution_count": 0,
   "metadata": {
    "application/vnd.databricks.v1+cell": {
     "cellMetadata": {
      "byteLimit": 2048000,
      "rowLimit": 10000
     },
     "inputWidgets": {},
     "nuid": "ea72618c-89e1-4116-adaa-e4ce83b950df",
     "showTitle": false,
     "tableResultSettingsMap": {},
     "title": ""
    }
   },
   "outputs": [
    {
     "output_type": "stream",
     "name": "stdout",
     "output_type": "stream",
     "text": [
      "+-----------+----------------+--------------------+------------+-----------------+\n|customer_id|       full_name|               email|     country|registration_date|\n+-----------+----------------+--------------------+------------+-----------------+\n|        101|    Ahmed Khaled|ahmed.khaled1@gma...|       Egypt|       2025-10-16|\n|        102| Sara Al Mansour|sara.almansour2@o...|Saudi Arabia|       2025-10-18|\n|        103|    Layla Kazemi|layla.kazemi3@yah...|         UAE|       2025-10-19|\n|        104|     Omar Farouk|omar.farouk4@gmai...|       Egypt|       2025-10-17|\n|        105|Fatima Al Rashid|fatima.alrashid5@...|Saudi Arabia|       2025-10-15|\n+-----------+----------------+--------------------+------------+-----------------+\nonly showing top 5 rows\n"
     ]
    }
   ],
   "source": [
    "df_customers = spark.read.parquet(\"abfss://retail@elmougist.dfs.core.windows.net/MohammedHameds/Retails_Project/refs/heads/main/dataset/customers.parquet\")\n",
    "df_customers.show(5)"
   ]
  },
  {
   "cell_type": "code",
   "execution_count": 0,
   "metadata": {
    "application/vnd.databricks.v1+cell": {
     "cellMetadata": {
      "byteLimit": 2048000,
      "rowLimit": 10000
     },
     "inputWidgets": {},
     "nuid": "6b735ea1-ea48-4b45-853d-1deb79f3830e",
     "showTitle": false,
     "tableResultSettingsMap": {},
     "title": ""
    }
   },
   "outputs": [],
   "source": [
    "df_store.write.mode(\"overwrite\").saveAsTable(\"`elmougi-retail`.`elmougi-sales`.`BRONZE`\")"
   ]
  },
  {
   "cell_type": "code",
   "execution_count": 0,
   "metadata": {
    "application/vnd.databricks.v1+cell": {
     "cellMetadata": {
      "byteLimit": 2048000,
      "rowLimit": 10000
     },
     "inputWidgets": {},
     "nuid": "1fb65cb3-be5a-446d-893e-82c772d1bd41",
     "showTitle": false,
     "tableResultSettingsMap": {},
     "title": ""
    }
   },
   "outputs": [],
   "source": [
    "df_transaction.write.mode(\"overwrite\").saveAsTable(\"`elmougi-retail`.`elmougi-sales`.`BRONZE-transaction`\")"
   ]
  },
  {
   "cell_type": "code",
   "execution_count": 0,
   "metadata": {
    "application/vnd.databricks.v1+cell": {
     "cellMetadata": {
      "byteLimit": 2048000,
      "rowLimit": 10000
     },
     "inputWidgets": {},
     "nuid": "25ddda6d-23d5-465e-adba-84ce290027b5",
     "showTitle": false,
     "tableResultSettingsMap": {},
     "title": ""
    }
   },
   "outputs": [],
   "source": [
    "df_product.write.mode(\"overwrite\").saveAsTable(\"`elmougi-retail`.`elmougi-sales`.`BRONZE-products`\")"
   ]
  },
  {
   "cell_type": "code",
   "execution_count": 0,
   "metadata": {
    "application/vnd.databricks.v1+cell": {
     "cellMetadata": {
      "byteLimit": 2048000,
      "rowLimit": 10000
     },
     "inputWidgets": {},
     "nuid": "3cff0ec7-5dfb-4893-8d2b-6e2b44715d27",
     "showTitle": false,
     "tableResultSettingsMap": {},
     "title": ""
    }
   },
   "outputs": [],
   "source": [
    "df_customers.write.mode(\"overwrite\").saveAsTable(\"`elmougi-retail`.`elmougi-sales`.`BRONZE-customers`\")"
   ]
  },
  {
   "cell_type": "code",
   "execution_count": 0,
   "metadata": {
    "application/vnd.databricks.v1+cell": {
     "cellMetadata": {
      "byteLimit": 2048000,
      "rowLimit": 10000
     },
     "inputWidgets": {},
     "nuid": "93d9def6-5794-4e1d-a0c4-8793c4250860",
     "showTitle": false,
     "tableResultSettingsMap": {},
     "title": ""
    }
   },
   "outputs": [
    {
     "output_type": "stream",
     "name": "stdout",
     "output_type": "stream",
     "text": [
      "root\n |-- store_id: integer (nullable = true)\n |-- store_name: string (nullable = true)\n |-- location: string (nullable = true)\n\n"
     ]
    }
   ],
   "source": [
    "df_store.printSchema()"
   ]
  },
  {
   "cell_type": "code",
   "execution_count": 0,
   "metadata": {
    "application/vnd.databricks.v1+cell": {
     "cellMetadata": {
      "byteLimit": 2048000,
      "rowLimit": 10000
     },
     "inputWidgets": {},
     "nuid": "c362ff4a-80f2-40b2-b416-29eb069013a9",
     "showTitle": false,
     "tableResultSettingsMap": {},
     "title": ""
    }
   },
   "outputs": [
    {
     "output_type": "stream",
     "name": "stdout",
     "output_type": "stream",
     "text": [
      "root\n |-- product_id: integer (nullable = true)\n |-- product_name: string (nullable = true)\n |-- category: string (nullable = true)\n |-- price: integer (nullable = true)\n\nroot\n |-- transaction_id: integer (nullable = true)\n |-- customer_id: integer (nullable = true)\n |-- product_id: integer (nullable = true)\n |-- store_id: integer (nullable = true)\n |-- quantity: integer (nullable = true)\n |-- transaction_date: date (nullable = true)\n\nroot\n |-- customer_id: long (nullable = true)\n |-- full_name: string (nullable = true)\n |-- email: string (nullable = true)\n |-- country: string (nullable = true)\n |-- registration_date: string (nullable = true)\n\n"
     ]
    }
   ],
   "source": [
    "df_product.printSchema()\n",
    "df_transaction.printSchema()\n",
    "df_customers.printSchema()"
   ]
  },
  {
   "cell_type": "code",
   "execution_count": 0,
   "metadata": {
    "application/vnd.databricks.v1+cell": {
     "cellMetadata": {
      "byteLimit": 2048000,
      "rowLimit": 10000
     },
     "inputWidgets": {},
     "nuid": "e83c8c06-7360-40ae-899b-8b2e4a7e0529",
     "showTitle": false,
     "tableResultSettingsMap": {},
     "title": ""
    }
   },
   "outputs": [],
   "source": [
    "from pyspark.sql.functions import  col , sum"
   ]
  },
  {
   "cell_type": "code",
   "execution_count": 0,
   "metadata": {
    "application/vnd.databricks.v1+cell": {
     "cellMetadata": {
      "byteLimit": 2048000,
      "rowLimit": 10000
     },
     "inputWidgets": {},
     "nuid": "f06b1a6d-e922-4eab-bb54-0088ad8fbc17",
     "showTitle": false,
     "tableResultSettingsMap": {},
     "title": ""
    }
   },
   "outputs": [
    {
     "output_type": "stream",
     "name": "stdout",
     "output_type": "stream",
     "text": [
      "root\n |-- customer_id: integer (nullable = true)\n |-- full_name: string (nullable = true)\n |-- email: string (nullable = true)\n |-- country: string (nullable = true)\n |-- registration_date: date (nullable = true)\n\n"
     ]
    }
   ],
   "source": [
    "df_customers= df_customers.select(\n",
    "    col(\"customer_id\").cast(\"int\"),\n",
    "    col(\"full_name\"),\n",
    "    col(\"email\"),\n",
    "    col(\"country\"),\n",
    "    col(\"registration_date\").cast(\"date\")\n",
    ")\n",
    "\n",
    "df_customers.printSchema()"
   ]
  },
  {
   "cell_type": "code",
   "execution_count": 0,
   "metadata": {
    "application/vnd.databricks.v1+cell": {
     "cellMetadata": {
      "byteLimit": 2048000,
      "rowLimit": 10000
     },
     "inputWidgets": {},
     "nuid": "5faf2ebd-87ac-42b2-bb9d-a5ad708dc154",
     "showTitle": false,
     "tableResultSettingsMap": {},
     "title": ""
    }
   },
   "outputs": [],
   "source": [
    "df_retail_silver= df_transaction.join(df_customers,\"customer_id\").join(df_store,\"store_id\").join(df_product,\"product_id\").write.mode(\"overwrite\").saveAsTable(\"`elmougi-retail`.`elmougi-sales`.`retail_silver`\")"
   ]
  },
  {
   "cell_type": "code",
   "execution_count": 0,
   "metadata": {
    "application/vnd.databricks.v1+cell": {
     "cellMetadata": {
      "byteLimit": 2048000,
      "rowLimit": 10000
     },
     "inputWidgets": {},
     "nuid": "d09ffa60-4c1f-464d-82b2-5fc1e1be6395",
     "showTitle": false,
     "tableResultSettingsMap": {},
     "title": ""
    }
   },
   "outputs": [],
   "source": [
    "df_retail_silver = spark.table(\n",
    "    \"`elmougi-retail`.`elmougi-sales`.`retail_silver`\"\n",
    ")\n",
    "\n",
    "from pyspark.sql.functions import sum, col\n",
    "\n",
    "df_store_sales_gold = (\n",
    "    df_retail_silver.groupBy(\"store_name\")\n",
    "    .agg(\n",
    "        sum(\"price\").alias(\"total_sales\")\n",
    "    )\n",
    "    .orderBy(\n",
    "        col(\"total_sales\").desc()\n",
    "    )\n",
    ")\n",
    "\n",
    "display\n",
    "\n",
    "df_store_sales_gold.write.mode(\"overwrite\").saveAsTable(\"`elmougi-retail`.`elmougi-sales`.`storeSales_gold`\")\n"
   ]
  },
  {
   "cell_type": "code",
   "execution_count": 0,
   "metadata": {
    "application/vnd.databricks.v1+cell": {
     "cellMetadata": {
      "byteLimit": 2048000,
      "rowLimit": 10000
     },
     "inputWidgets": {},
     "nuid": "7268782b-f528-4acb-85fc-b92a9f90ed3e",
     "showTitle": false,
     "tableResultSettingsMap": {},
     "title": ""
    }
   },
   "outputs": [
    {
     "output_type": "stream",
     "name": "stderr",
     "output_type": "stream",
     "text": [
      "/databricks/spark/python/pyspark/sql/connect/expressions.py:1061: UserWarning: WARN WindowExpression: No Partition Defined for Window operation! Moving all data to a single partition, this can cause serious performance degradation.\n  warnings.warn(\n"
     ]
    },
    {
     "output_type": "display_data",
     "data": {
      "text/html": [
       "<style scoped>\n",
       "  .table-result-container {\n",
       "    max-height: 300px;\n",
       "    overflow: auto;\n",
       "  }\n",
       "  table, th, td {\n",
       "    border: 1px solid black;\n",
       "    border-collapse: collapse;\n",
       "  }\n",
       "  th, td {\n",
       "    padding: 5px;\n",
       "  }\n",
       "  th {\n",
       "    text-align: left;\n",
       "  }\n",
       "</style><div class='table-result-container'><table class='table-result'><thead style='background-color: white'><tr><th>country</th><th>total_revenue</th><th>cumulative_revenue</th></tr></thead><tbody><tr><td>Saudi Arabia</td><td>74010</td><td>74010</td></tr><tr><td>Egypt</td><td>56414</td><td>130424</td></tr><tr><td>UAE</td><td>47161</td><td>177585</td></tr></tbody></table></div>"
      ]
     },
     "metadata": {
      "application/vnd.databricks.v1+output": {
       "addedWidgets": {},
       "aggData": [],
       "aggError": "",
       "aggOverflow": false,
       "aggSchema": [],
       "aggSeriesLimitReached": false,
       "aggType": "",
       "arguments": {},
       "columnCustomDisplayInfos": {},
       "data": [
        [
         "Saudi Arabia",
         74010,
         74010
        ],
        [
         "Egypt",
         56414,
         130424
        ],
        [
         "UAE",
         47161,
         177585
        ]
       ],
       "datasetInfos": [],
       "dbfsResultPath": null,
       "isJsonSchema": true,
       "metadata": {},
       "overflow": false,
       "plotOptions": {
        "customPlotOptions": {},
        "displayType": "table",
        "pivotAggregation": null,
        "pivotColumns": null,
        "xColumns": null,
        "yColumns": null
       },
       "removedWidgets": [],
       "schema": [
        {
         "metadata": "{}",
         "name": "country",
         "type": "\"string\""
        },
        {
         "metadata": "{}",
         "name": "total_revenue",
         "type": "\"long\""
        },
        {
         "metadata": "{}",
         "name": "cumulative_revenue",
         "type": "\"long\""
        }
       ],
       "type": "table"
      }
     },
     "output_type": "display_data"
    }
   ],
   "source": [
    "df_retail_silver = spark.table(\n",
    "    \"`elmougi-retail`.`elmougi-sales`.`retail_silver`\"\n",
    ")\n",
    "\n",
    "from pyspark.sql.functions import sum, col, expr\n",
    "\n",
    "df_country_revenue = (\n",
    "    df_retail_silver.groupBy(\"country\")\n",
    "    .agg(\n",
    "        sum(expr(\"price * quantity\")).alias(\"total_revenue\")\n",
    "    )\n",
    "    .orderBy(\n",
    "        col(\"total_revenue\").desc()\n",
    "    )\n",
    ")\n",
    "\n",
    "# Prepare data for waterfall chart: sort by total_revenue and add cumulative sum\n",
    "from pyspark.sql.window import Window\n",
    "\n",
    "window_spec = Window.orderBy(col(\"total_revenue\").desc())\n",
    "df_waterfall = df_country_revenue.withColumn(\n",
    "    \"cumulative_revenue\", sum(\"total_revenue\").over(window_spec)\n",
    ")\n",
    "\n",
    "display(df_waterfall)\n",
    "df_waterfall.write.mode(\"overwrite\").saveAsTable(\"`elmougi-retail`.`elmougi-sales`.`countryRevenue_waterfall_gold`\")"
   ]
  }
 ],
 "metadata": {
  "application/vnd.databricks.v1+notebook": {
   "computePreferences": null,
   "dashboards": [],
   "environmentMetadata": {
    "base_environment": "",
    "environment_version": "4"
   },
   "inputWidgetPreferences": null,
   "language": "python",
   "notebookMetadata": {
    "pythonIndentUnit": 4
   },
   "notebookName": "Sales_Project",
   "widgets": {}
  },
  "language_info": {
   "name": "python"
  }
 },
 "nbformat": 4,
 "nbformat_minor": 0
}